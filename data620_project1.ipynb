{
 "cells": [
  {
   "cell_type": "markdown",
   "id": "e0a10c10-0b57-420d-b60e-b89d08b2eda1",
   "metadata": {},
   "source": [
    "# CUNY MSDS DATA620 - Web Analytics\n",
    "\n",
    "# Week 3 - Project 1 | Centrality Measures Across Categorical Groups \n",
    "\n",
    "## Team1 : Ramnivas Singh, Deepak Sharma, Tage Singh\n",
    "\n",
    "### Description\n",
    "\n",
    "Word Adjacencies for the novel \"David Copperfield\" \n",
    "\n",
    "Nodes represent the most commonly occurring adjectives and nouns in the book. Node values are 0 for adjectives and 1\n",
    "for nouns. Edges connect any pair of words that occur in adjacent position in the text of the book.\n",
    "\n",
    "1.Brief Description:http://www-personal.umich.edu/~mejn/netdata/.\n",
    "\n",
    "2.Dataset:http://www-personal.umich.edu/~mejn/netdata/adjnoun.zip\n",
    "\n"
   ]
  },
  {
   "cell_type": "code",
   "execution_count": null,
   "id": "e17e64b8-6088-48d0-a272-094e4cd48922",
   "metadata": {
    "scrolled": true,
    "tags": []
   },
   "outputs": [],
   "source": [
    "# Importing the required libraries\n",
    "\n",
    "import pandas as pd\n",
    "import numpy as np\n",
    "from scipy import stats\n",
    "import copy\n",
    "\n",
    "import networkx as nx\n",
    "G=nx.Graph()\n",
    "\n",
    "import matplotlib.pyplot as plt\n",
    "%matplotlib inline\n",
    "\n",
    "import urllib.request\n",
    "\n",
    "import warnings\n",
    "\n",
    "from datetime import date\n",
    "today = date.today()\n",
    "print(today)"
   ]
  },
  {
   "cell_type": "code",
   "execution_count": null,
   "id": "34c568d5-80a9-4d27-b40e-2fcda9cd31c3",
   "metadata": {
    "tags": []
   },
   "outputs": [],
   "source": [
    "# Loading data into pandas dataframe from .gml file -----\n",
    "\n",
    "# test link - T =  pd.read_csv(\"https://raw.githubusercontent.com/tagensingh/DATA620-WEEK-3/main/enron_import_5000_records.csv\")\n",
    "#G = nx.read_gml(\"https://raw.githubusercontent.com/tagensingh/DATA620-WEEK-3/main/adjnoun.gml\")\n",
    "\n",
    "#G = nx.read_gml(\"adjnoun.gml\")"
   ]
  },
  {
   "cell_type": "code",
   "execution_count": null,
   "id": "95738bb8-0372-4f67-9fc2-54188caecc6d",
   "metadata": {},
   "outputs": [],
   "source": [
    "webUrl  = urllib.request.urlopen(\"https://raw.githubusercontent.com/tagensingh/DATA620-WEEK-3/main/adjnoun.gml\")\n",
    "# print (\"result code: \" + str(webUrl.getcode())) - Used for testing the url connection\n",
    "G =  nx.read_gml(webUrl)"
   ]
  },
  {
   "cell_type": "code",
   "execution_count": null,
   "id": "c86dac2d-e9d9-47d1-8d98-6d24f08561d2",
   "metadata": {},
   "outputs": [],
   "source": [
    "print(\" No of Nodes : \",len(G))\n",
    "print(\"\\n\")\n",
    "printprint(\" Graph Diameter : \",nx.diameter(G))\n",
    "print(\"\\n\")"
   ]
  },
  {
   "cell_type": "code",
   "execution_count": null,
   "id": "51f1444f-77bc-41c1-8fbf-966d6c5b560e",
   "metadata": {
    "tags": []
   },
   "outputs": [],
   "source": []
  },
  {
   "cell_type": "code",
   "execution_count": null,
   "id": "0cfd28f0-7a00-4253-ad77-5045ea82846f",
   "metadata": {},
   "outputs": [],
   "source": [
    "print(\"The number of total edges is \", nx.number_of_edges(G))\n",
    "edges = pd.DataFrame(list(nx.edges(G)))\n",
    "edges.columns = ['Source', 'Target']\n",
    "edges.head(10)\n"
   ]
  },
  {
   "cell_type": "code",
   "execution_count": null,
   "id": "6693fd9d-16df-4d0b-8ede-0997926fe421",
   "metadata": {},
   "outputs": [],
   "source": [
    "# Tail edges\n",
    "edges.tail(n=10)"
   ]
  },
  {
   "cell_type": "code",
   "execution_count": null,
   "id": "72bc9015-e696-46da-9e1f-257ac5491398",
   "metadata": {},
   "outputs": [],
   "source": [
    "# for each node in the graph\n",
    "node_color = []\n",
    "for node in G.nodes(data=True):\n",
    "    wrd_type = node[1]['value']\n",
    "    if wrd_type == 0:\n",
    "        node_color.append('red')\n",
    "    elif wrd_type == 1:\n",
    "        node_color.append('blue')    "
   ]
  },
  {
   "cell_type": "code",
   "execution_count": null,
   "id": "a5b092d4-96f3-408e-af9c-bf5378e5a13b",
   "metadata": {},
   "outputs": [],
   "source": [
    "# Creating a network analysis\n",
    "plt.figure(figsize=(15,15))\n",
    "plt.axis('off')\n",
    "\n",
    "nx.draw(G, with_labels=True, alpha=0.8, edge_color=\"black\",font_weight=\"bold\",node_color=node_color,node_size=900)\n",
    "\n",
    "plt.title(\"Word Adjacencies for the novel - David Copperfield - \")"
   ]
  },
  {
   "cell_type": "code",
   "execution_count": null,
   "id": "5a1ca86e-27f2-4fb0-9daa-69839178b407",
   "metadata": {},
   "outputs": [],
   "source": [
    "# Creating a dataframe with nodes and their required calculations\n",
    "cal = pd.DataFrame()\n",
    "cal['eigen_cent'] = nx.eigenvector_centrality(G).values()\n",
    "cal['degree_cent'] = nx.degree_centrality(G).values()\n",
    "cal['between_cent'] = nx.betweenness_centrality(G).values()\n",
    "cal['close_centr'] = nx.closeness_centrality(G).values()\n",
    " \n",
    "# Printing results\n",
    "cal.index = list(G)\n",
    "print(cal.to_string())"
   ]
  },
  {
   "cell_type": "code",
   "execution_count": null,
   "id": "130a2b73-1a89-4de9-84c9-9a15d88f4fe7",
   "metadata": {},
   "outputs": [],
   "source": []
  },
  {
   "cell_type": "code",
   "execution_count": null,
   "id": "d66d1175-e695-471f-a2bd-ff99216871be",
   "metadata": {},
   "outputs": [],
   "source": [
    "# Most popular characters\n",
    "cal.sort_values('eigen_cent', ascending=False)"
   ]
  },
  {
   "cell_type": "code",
   "execution_count": null,
   "id": "af0946b7-1e36-496e-8012-3430076e7e01",
   "metadata": {},
   "outputs": [],
   "source": []
  },
  {
   "cell_type": "code",
   "execution_count": null,
   "id": "51c9181d-953f-4266-9d16-30302d190480",
   "metadata": {},
   "outputs": [],
   "source": [
    "top_10 = sorted(nx.degree_centrality(G).items(), key=lambda x:x[1], reverse=True)[0:10] # Sort the top 10\n",
    "\n",
    "labels, ys = zip(*top_10)\n",
    "xs = np.arange(len(labels)) \n",
    "width = 1\n",
    "plt.bar(xs, ys, width, align='center')\n",
    "#plt.bar(top_10.keys, top_10.values, align='center')\n",
    "plt.xticks(xs, labels, rotation='vertical') \n",
    "plt.ylabel('Degree Centrality')\n",
    "plt.show()"
   ]
  },
  {
   "cell_type": "code",
   "execution_count": null,
   "id": "31b8c0d9-0312-4ad6-a0a4-3c64c59fbed4",
   "metadata": {},
   "outputs": [],
   "source": []
  },
  {
   "cell_type": "code",
   "execution_count": null,
   "id": "488d3523-2ecd-4e46-bc49-4114121bf177",
   "metadata": {},
   "outputs": [],
   "source": [
    "# creating graphml \n",
    "nx.write_graphml(G, \"project1.graphml\")"
   ]
  }
 ],
 "metadata": {
  "kernelspec": {
   "display_name": "Python 3",
   "language": "python",
   "name": "python3"
  },
  "language_info": {
   "codemirror_mode": {
    "name": "ipython",
    "version": 3
   },
   "file_extension": ".py",
   "mimetype": "text/x-python",
   "name": "python",
   "nbconvert_exporter": "python",
   "pygments_lexer": "ipython3",
   "version": "3.7.10"
  }
 },
 "nbformat": 4,
 "nbformat_minor": 5
}
