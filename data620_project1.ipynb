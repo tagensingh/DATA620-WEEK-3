{
 "cells": [
  {
   "cell_type": "code",
   "execution_count": null,
   "id": "85a12ff6-c448-40e7-a832-7ffec02090bc",
   "metadata": {},
   "outputs": [],
   "source": []
  },
  {
   "cell_type": "code",
   "execution_count": null,
   "id": "e17e64b8-6088-48d0-a272-094e4cd48922",
   "metadata": {
    "scrolled": true,
    "tags": []
   },
   "outputs": [],
   "source": [
    "# Importing the required libraries\n",
    "import pandas as pd\n",
    "import networkx as nx\n",
    "import matplotlib.pyplot as plt\n",
    "G=nx.Graph()\n",
    "\n",
    "from datetime import date\n",
    "today = date.today()\n",
    "\n",
    "print(today)\n"
   ]
  },
  {
   "cell_type": "markdown",
   "id": "d0f00ed4-245c-4a52-8fd8-7bd85bb06887",
   "metadata": {
    "tags": []
   },
   "source": [
    "<span style='background :blue' > # CUNY SPS DATA 620\n",
    "\n",
    "<span style='background :blue' >## WEEK 2 ASSIGNMENT 2\n",
    "    \n",
    "### This assignment is about the Top Billionaires in 2021, the dataset contains 2739 Records in .CSV format, including catagroical information\n",
    "\n",
    "### The dataset was sourced from https://www.kaggle.com/nithishsekaran/billionairesdataset2021\n",
    "\n",
    "<span style='background :blue' >### This work is a group effort, the group members are Ramnivas Singh, Deepak Sharma, Tage Singh,"
   ]
  },
  {
   "cell_type": "code",
   "execution_count": null,
   "id": "34c568d5-80a9-4d27-b40e-2fcda9cd31c3",
   "metadata": {},
   "outputs": [],
   "source": [
    "# Loading data into pandas dataframe form .CSV file -----\n",
    "\n",
    "df_billions = pd.read_csv('https://raw.githubusercontent.com/tagensingh/DATA620-W2-A1/main/billionaires.csv')\n",
    "\n",
    "df_billions.head(12)"
   ]
  },
  {
   "cell_type": "markdown",
   "id": "527e6718-83f5-44c7-bb10-aab43f7a22f9",
   "metadata": {
    "tags": []
   },
   "source": [
    "<span style='background :blue' > ### The data load is accomplished using pandas datafram as is shown above\n",
    "\n",
    "    \n",
    "### One OUTCOME we can predict is a HIGH DEGREE OF CENTRALITY with regards to \"Technology\" nodes and \"Country of Citizenship = United States\"\n",
    "    ---- This is just a prediction, the data will provide certainity\n"
   ]
  }
 ],
 "metadata": {
  "kernelspec": {
   "display_name": "Python 3",
   "language": "python",
   "name": "python3"
  },
  "language_info": {
   "codemirror_mode": {
    "name": "ipython",
    "version": 3
   },
   "file_extension": ".py",
   "mimetype": "text/x-python",
   "name": "python",
   "nbconvert_exporter": "python",
   "pygments_lexer": "ipython3",
   "version": "3.7.10"
  }
 },
 "nbformat": 4,
 "nbformat_minor": 5
}
