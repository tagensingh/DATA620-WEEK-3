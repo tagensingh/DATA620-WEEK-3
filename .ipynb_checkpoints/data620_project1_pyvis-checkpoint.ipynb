{
 "cells": [
  {
   "cell_type": "code",
   "execution_count": null,
   "id": "e17e64b8-6088-48d0-a272-094e4cd48922",
   "metadata": {
    "scrolled": true,
    "tags": []
   },
   "outputs": [],
   "source": [
    "# Importing the required libraries\n",
    "from pyvis import network as net\n",
    "#net = Network()\n",
    "\n",
    "import pandas as pd\n",
    "import networkx as nx\n",
    "import matplotlib.pyplot as plt\n",
    "G=nx.Graph()\n",
    "\n",
    "from datetime import date\n",
    "today = date.today()\n",
    "\n",
    "print(today)\n"
   ]
  },
  {
   "cell_type": "code",
   "execution_count": null,
   "id": "34c568d5-80a9-4d27-b40e-2fcda9cd31c3",
   "metadata": {
    "tags": []
   },
   "outputs": [],
   "source": [
    "# Loading data into pandas dataframe form .CSV file -----\n",
    "\n",
    "df_billions = pd.read_csv('https://raw.githubusercontent.com/tagensingh/DATA620-WEEK-3/main/billionaires_sample2.csv')\n",
    "\n",
    "df_billions.head(20)"
   ]
  },
  {
   "cell_type": "code",
   "execution_count": null,
   "id": "cab3d56e-bf98-4591-9bd6-16257913cdc8",
   "metadata": {
    "tags": []
   },
   "outputs": [],
   "source": [
    "G.clear()\n",
    "G = nx.from_pandas_edgelist(df_billions, source='name', target='citizenship', create_using=nx.Graph())"
   ]
  },
  {
   "cell_type": "code",
   "execution_count": null,
   "id": "eb487cb6-027e-4c12-a602-c8cdd9a5dbd3",
   "metadata": {
    "tags": []
   },
   "outputs": [],
   "source": [
    "print (nx.info(G))"
   ]
  },
  {
   "cell_type": "code",
   "execution_count": null,
   "id": "f2e9f2b8-fa95-4c35-8df4-f76feb4cbfd9",
   "metadata": {},
   "outputs": [],
   "source": [
    "nx.draw_networkx_nodes(G,pos=nx.spring_layout(G),node_color='r')\n",
    "\n",
    "# edges\n",
    "nx.draw_networkx_edges(G,pos=nx.spring_layout(G),alpha=0.5,width=6)\n",
    "\n",
    "# labels\n",
    "nx.draw_networkx_labels(G,pos=nx.spring_layout(G),font_size=15,font_family='sans-serif')\n",
    "\n",
    "plt.axis()\n",
    "plt.show() # display"
   ]
  },
  {
   "cell_type": "code",
   "execution_count": null,
   "id": "1fa04c7e-950e-4d9d-aeed-4b2e8f63deba",
   "metadata": {},
   "outputs": [],
   "source": []
  }
 ],
 "metadata": {
  "kernelspec": {
   "display_name": "Python 3",
   "language": "python",
   "name": "python3"
  },
  "language_info": {
   "codemirror_mode": {
    "name": "ipython",
    "version": 3
   },
   "file_extension": ".py",
   "mimetype": "text/x-python",
   "name": "python",
   "nbconvert_exporter": "python",
   "pygments_lexer": "ipython3",
   "version": "3.7.10"
  }
 },
 "nbformat": 4,
 "nbformat_minor": 5
}
