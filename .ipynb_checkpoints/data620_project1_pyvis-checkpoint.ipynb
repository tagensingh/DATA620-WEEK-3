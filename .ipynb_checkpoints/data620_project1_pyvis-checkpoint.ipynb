{
 "cells": [
  {
   "cell_type": "markdown",
   "id": "e0a10c10-0b57-420d-b60e-b89d08b2eda1",
   "metadata": {},
   "source": [
    "# CUNY MSDS DATA620 - Web Analytics\n",
    "\n",
    "# Week 3 - Part 2 | Network Analysis - Davis Southern Club Women\n",
    "\n",
    "## Team1 : Ramnivas Singh, Deepak Sharma, Tage Singh\n",
    "\n",
    "### Description\n",
    "\n",
    "Davis Southern Club Women dataset is used ths assignment for 2-node network analysis. These data were collected by Davis et al in the 1930s. They represent observed attendance at 14 social events by 18 Southern women. The result is a person-by-event matrix: cell (i,j) is 1 if person i attended social event j, and 0 otherwise.\n",
    "\n",
    "1.Brief Description: http://vlado.fmf.uni-lj.si/pub/networks/data/ucinet/ucidata.htm#davis.\n",
    "[For more background information, see also:http://rpackages.ianhowson.com/cran/latentnet/man/davis.html].\n",
    "Small “musty” datasets like that from this 1941 study have proven very valuable in testing and comparing new network algorithms.\n",
    "\n",
    "2.Dataset: http://vlado.fmf.uni-lj.si/pub/networks/data/Ucinet/davis.dat\n",
    "\n",
    "3.Python code to create dataset: https://networkx.readthedocs.io/en/stable/examples/algorithms/davis_club.html\n"
   ]
  },
  {
   "cell_type": "code",
   "execution_count": null,
   "id": "e17e64b8-6088-48d0-a272-094e4cd48922",
   "metadata": {
    "scrolled": true,
    "tags": []
   },
   "outputs": [],
   "source": [
    "# Importing the required libraries\n",
    "\n",
    "from pyvis import network as net\n",
    "\n",
    "import pandas as pd\n",
    "import numpy as np\n",
    "import copy\n",
    "\n",
    "import networkx as nx\n",
    "G=nx.Graph()\n",
    "\n",
    "import matplotlib.pyplot as plt\n",
    "%matplotlib inline\n",
    "\n",
    "from nxviz.plots import CircosPlot\n",
    "\n",
    "from operator import itemgetter\n",
    "from tabulate import tabulate\n",
    "\n",
    "import warnings\n",
    "\n",
    "from datetime import date\n",
    "today = date.today()\n",
    "\n",
    "print(today)"
   ]
  },
  {
   "cell_type": "code",
   "execution_count": null,
   "id": "34c568d5-80a9-4d27-b40e-2fcda9cd31c3",
   "metadata": {
    "tags": []
   },
   "outputs": [],
   "source": [
    "# Loading data into pandas dataframe form .gml file -----\n",
    "\n",
    "G = nx.read_gml(\"adjnoun.gml\")"
   ]
  },
  {
   "cell_type": "code",
   "execution_count": null,
   "id": "c86dac2d-e9d9-47d1-8d98-6d24f08561d2",
   "metadata": {},
   "outputs": [],
   "source": [
    "print(nx.info(G))"
   ]
  },
  {
   "cell_type": "code",
   "execution_count": null,
   "id": "51f1444f-77bc-41c1-8fbf-966d6c5b560e",
   "metadata": {
    "jupyter": {
     "source_hidden": true
    },
    "tags": []
   },
   "outputs": [],
   "source": [
    "nx.diameter(G)"
   ]
  },
  {
   "cell_type": "code",
   "execution_count": null,
   "id": "0cfd28f0-7a00-4253-ad77-5045ea82846f",
   "metadata": {},
   "outputs": [],
   "source": [
    "print(\"The number of total edges is \", nx.number_of_edges(G))\n",
    "edges = pd.DataFrame(list(nx.edges(G)))\n",
    "edges.columns = ['Source', 'Target']\n",
    "edges.head(10)"
   ]
  },
  {
   "cell_type": "code",
   "execution_count": null,
   "id": "6693fd9d-16df-4d0b-8ede-0997926fe421",
   "metadata": {},
   "outputs": [],
   "source": [
    "# Tail edges\n",
    "edges.tail(n=10)"
   ]
  },
  {
   "cell_type": "code",
   "execution_count": null,
   "id": "36cc9d0a-dc29-4065-a07b-4de68b3763ee",
   "metadata": {},
   "outputs": [],
   "source": []
  },
  {
   "cell_type": "code",
   "execution_count": null,
   "id": "a5b092d4-96f3-408e-af9c-bf5378e5a13b",
   "metadata": {},
   "outputs": [],
   "source": [
    "# Creating a network analysis\n",
    "plt.figure(figsize=(20,20))\n",
    "plt.axis('off')\n",
    "\n",
    "nx.draw(G, with_labels=True, alpha=0.8, edge_color=\"Gray\")\n",
    "\n",
    "plt.title(\"Network analysis of Game of Thrones - Book 1\")"
   ]
  },
  {
   "cell_type": "code",
   "execution_count": null,
   "id": "2a4cdb85-69d9-4e4c-9d2b-d19e00d7da48",
   "metadata": {},
   "outputs": [],
   "source": [
    "warnings.filterwarnings('ignore')\n",
    "\n",
    "node_df = pd.DataFrame(list(G.nodes(data = True)))"
   ]
  },
  {
   "cell_type": "code",
   "execution_count": null,
   "id": "7d9b4937-e005-4041-b309-694bcba65244",
   "metadata": {},
   "outputs": [],
   "source": [
    "# Compute the degree of every node: degrees\n",
    "degrees = [len(list(G.neighbors(n))) for n in G.nodes()]\n",
    "\n",
    "# Print the degrees\n",
    "print(degrees)"
   ]
  },
  {
   "cell_type": "code",
   "execution_count": null,
   "id": "85d04a1f-f031-457f-949f-cf9ce081c8e1",
   "metadata": {},
   "outputs": [],
   "source": [
    "plt.figure()\n",
    "plt.hist(degrees)\n",
    "plt.show()"
   ]
  },
  {
   "cell_type": "code",
   "execution_count": null,
   "id": "dc857d82-f038-4ebf-b0af-76ac80811d64",
   "metadata": {},
   "outputs": [],
   "source": []
  },
  {
   "cell_type": "code",
   "execution_count": null,
   "id": "7a37ec58-7e72-4d5d-8064-c068abbbe950",
   "metadata": {},
   "outputs": [],
   "source": [
    "dc = nx.degree_centrality(G)\n",
    "ec = nx.eigenvector_centrality(G)"
   ]
  },
  {
   "cell_type": "code",
   "execution_count": null,
   "id": "3ae77421-e764-4b4c-8c8c-af0f49cb00e4",
   "metadata": {},
   "outputs": [],
   "source": []
  },
  {
   "cell_type": "code",
   "execution_count": null,
   "id": "cd0d06fc-ae4d-4b6a-ad0b-6b67660cd6e8",
   "metadata": {},
   "outputs": [],
   "source": []
  },
  {
   "cell_type": "code",
   "execution_count": null,
   "id": "5f7f158b-a4b6-4871-93a8-237153830eec",
   "metadata": {},
   "outputs": [],
   "source": []
  },
  {
   "cell_type": "code",
   "execution_count": null,
   "id": "5a1ca86e-27f2-4fb0-9daa-69839178b407",
   "metadata": {},
   "outputs": [],
   "source": []
  },
  {
   "cell_type": "code",
   "execution_count": null,
   "id": "130a2b73-1a89-4de9-84c9-9a15d88f4fe7",
   "metadata": {},
   "outputs": [],
   "source": []
  },
  {
   "cell_type": "code",
   "execution_count": null,
   "id": "d73e1ea7-8af4-4ace-a36d-3e89ddef38f0",
   "metadata": {},
   "outputs": [],
   "source": [
    "print(\"Is this a dataframe : \",isinstance(df_neu, pd.DataFrame))\n",
    "\n",
    "print(\"\\n\")\n",
    "\n",
    "print(df_neu.head())\n",
    "\n",
    "print(\"\\n\")\n",
    "\n",
    "print(\"Printing the structure of the datset :\")\n",
    "\n",
    "print(\"\\n\")\n",
    "\n",
    "print(df_neu.info())"
   ]
  },
  {
   "cell_type": "code",
   "execution_count": null,
   "id": "727a1aa3-ab23-4846-a624-4dd4f0b13535",
   "metadata": {},
   "outputs": [],
   "source": []
  },
  {
   "cell_type": "code",
   "execution_count": null,
   "id": "bec6ed58-4db2-495e-b10a-b86b3ff7e6c8",
   "metadata": {},
   "outputs": [],
   "source": [
    "bil_ctz_net = nx.from_pandas_edgelist(df_billions, source ='name', target ='citizenship')\n",
    "\n",
    "\n",
    "bil_ctz_net.number_of_nodes()"
   ]
  },
  {
   "cell_type": "code",
   "execution_count": null,
   "id": "b2adc132-166e-4000-be33-cd3b133db514",
   "metadata": {},
   "outputs": [],
   "source": [
    "nx.draw(bil_ctz_net, \n",
    "        with_labels = True, \n",
    "        node_size = 300, \n",
    "        width = 0.2)\n",
    "plt.show()\n",
    "plt.savefig(\"graph.png\", dpi=1800)"
   ]
  },
  {
   "cell_type": "code",
   "execution_count": null,
   "id": "85f5a2f2-72a7-49c7-b6eb-4de2cb72ea0b",
   "metadata": {},
   "outputs": [],
   "source": [
    "bil_ctz_net.number_of_edges()"
   ]
  },
  {
   "cell_type": "code",
   "execution_count": null,
   "id": "89aa5588-f368-4162-be3c-d12798391f98",
   "metadata": {},
   "outputs": [],
   "source": [
    "deg=nx.degree(bil_ctz_net)\n",
    "print('The maximum degree in the network is: '+str(max(deg,key=itemgetter(1))[1]))\n",
    "print('The minimum degree in the newowrk is: ' +str(min(deg,key=itemgetter(1))[1]))"
   ]
  },
  {
   "cell_type": "code",
   "execution_count": null,
   "id": "bd5df1c5-b74b-47ab-9249-ebe78e62ee98",
   "metadata": {},
   "outputs": [],
   "source": [
    "sorted_deg_list = sorted(deg, key=lambda tup: tup[1], reverse=True)\n",
    "print(tabulate(sorted_deg_list[0:10], headers = ['Country', 'Degree'],tablefmt='fancy_grid'))"
   ]
  },
  {
   "cell_type": "code",
   "execution_count": null,
   "id": "b985357c-a975-44cb-ad5b-a2fd541a4e84",
   "metadata": {},
   "outputs": [],
   "source": [
    "close = nx.closeness_centrality(bil_ctz_net)\n",
    "\n",
    "sorted_close = sorted(close.items(), key=itemgetter(1), reverse=True)\n",
    "print(tabulate(sorted_close[0:10], headers = ['Country', 'Closeness'],tablefmt='fancy_grid'))\n",
    "\n"
   ]
  },
  {
   "cell_type": "code",
   "execution_count": null,
   "id": "0c2152af-d971-41d7-887d-eff7cd9afb51",
   "metadata": {},
   "outputs": [],
   "source": [
    "btwn = nx.betweenness_centrality(bil_ctz_net)\n",
    "\n",
    "sorted_btwn = sorted(btwn.items(), key=itemgetter(1), reverse=True)\n",
    "print(tabulate(sorted_btwn[0:10], headers = ['UserID', 'Betweenness'],tablefmt='fancy_grid'))"
   ]
  },
  {
   "cell_type": "code",
   "execution_count": null,
   "id": "bd195872-d368-42ef-b015-860d7844902d",
   "metadata": {},
   "outputs": [],
   "source": [
    "#eigen = nx.eigenvector_centrality(bil_ctz_net)\n",
    "#sorted_eigen = sorted(eigen.items(), key=itemgetter(1), reverse=True)\n",
    "#print(tabulate(sorted_eigen[0:10], headers = ['Country', 'Eigen Vector'],tablefmt='fancy_grid'))"
   ]
  },
  {
   "cell_type": "code",
   "execution_count": null,
   "id": "3daebd84-caef-4e3e-a0db-4474a0883f02",
   "metadata": {},
   "outputs": [],
   "source": []
  },
  {
   "cell_type": "code",
   "execution_count": null,
   "id": "6b8b1f01-6d45-404f-9461-f799186b767f",
   "metadata": {},
   "outputs": [],
   "source": []
  },
  {
   "cell_type": "code",
   "execution_count": null,
   "id": "d733a8af-68a3-4c1d-a244-d38485cd3a9f",
   "metadata": {},
   "outputs": [],
   "source": []
  },
  {
   "cell_type": "code",
   "execution_count": null,
   "id": "ac008a61-0154-4da7-a217-c325fb30f2dd",
   "metadata": {},
   "outputs": [],
   "source": []
  },
  {
   "cell_type": "code",
   "execution_count": null,
   "id": "394adee3-4199-43db-99d5-7ec610e95d4b",
   "metadata": {},
   "outputs": [],
   "source": []
  },
  {
   "cell_type": "code",
   "execution_count": null,
   "id": "6b1a0ffb-92a2-4056-8ea3-39a6bb995e92",
   "metadata": {},
   "outputs": [],
   "source": []
  },
  {
   "cell_type": "code",
   "execution_count": null,
   "id": "cab3d56e-bf98-4591-9bd6-16257913cdc8",
   "metadata": {
    "tags": []
   },
   "outputs": [],
   "source": [
    "G.clear()\n",
    "GNC = nx.from_pandas_edgelist(df_billions, source='name', target='citizenship', create_using=nx.Graph())\n",
    "GNS = nx.from_pandas_edgelist(df_billions, source='name', target='source', create_using=nx.Graph())"
   ]
  },
  {
   "cell_type": "code",
   "execution_count": null,
   "id": "eb487cb6-027e-4c12-a602-c8cdd9a5dbd3",
   "metadata": {
    "tags": []
   },
   "outputs": [],
   "source": [
    "print (nx.info(GNC))"
   ]
  },
  {
   "cell_type": "code",
   "execution_count": null,
   "id": "f2e9f2b8-fa95-4c35-8df4-f76feb4cbfd9",
   "metadata": {},
   "outputs": [],
   "source": [
    "nx.draw_networkx_nodes(GNC,pos=nx.spring_layout(GNC),node_color='r')\n",
    "\n",
    "# edges\n",
    "nx.draw_networkx_edges(GNC,pos=nx.spring_layout(GNC),alpha=0.5,width=20,edge_color='k', style='solid',)\n",
    "\n",
    "# labels\n",
    "nx.draw_networkx_labels(GNC,pos=nx.spring_layout(GNC),font_size=8,font_family='sans-serif')\n",
    "\n",
    "plt.axis()\n",
    "plt.show() # display"
   ]
  },
  {
   "cell_type": "code",
   "execution_count": null,
   "id": "1d3e435e-a083-4942-bf40-51af7f7d6f0e",
   "metadata": {},
   "outputs": [],
   "source": [
    "c = CircosPlot(GNC, figsize=(12, 12),node_labels=True)\n",
    "c.draw()"
   ]
  },
  {
   "cell_type": "code",
   "execution_count": null,
   "id": "49030fb4-86fc-48ab-8682-13f6b1018831",
   "metadata": {},
   "outputs": [],
   "source": [
    "GNC.head"
   ]
  },
  {
   "cell_type": "code",
   "execution_count": null,
   "id": "260c0364-bcdb-485d-a40e-1da67fb72657",
   "metadata": {},
   "outputs": [],
   "source": []
  }
 ],
 "metadata": {
  "kernelspec": {
   "display_name": "Python 3",
   "language": "python",
   "name": "python3"
  },
  "language_info": {
   "codemirror_mode": {
    "name": "ipython",
    "version": 3
   },
   "file_extension": ".py",
   "mimetype": "text/x-python",
   "name": "python",
   "nbconvert_exporter": "python",
   "pygments_lexer": "ipython3",
   "version": "3.7.10"
  }
 },
 "nbformat": 4,
 "nbformat_minor": 5
}
