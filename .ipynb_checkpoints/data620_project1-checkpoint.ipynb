{
 "cells": [
  {
   "cell_type": "markdown",
   "id": "e0a10c10-0b57-420d-b60e-b89d08b2eda1",
   "metadata": {},
   "source": [
    "# CUNY MSDS DATA620 - Web Analytics\n",
    "\n",
    "# Week 3 - Project 1 | Centrality Measures Across Categorical Groups - Word Adjacencies for the novel \"David Copperfield\" \n",
    "\n",
    "\n",
    "## Team1 : Ramnivas Singh, Deepak Sharma, Tage Singh\n",
    "\n",
    "### Description\n",
    "\n",
    "Nodes represent the most commonly occurring adjectives and nouns in the book. Node values are 0 for adjectives and 1\n",
    "for nouns. Edges connect any pair of words that occur in adjacent position in the text of the book.\n",
    "\n",
    "1.Brief Description:http://www-personal.umich.edu/~mejn/netdata/.\n",
    "\n",
    "2.Dataset:http://www-personal.umich.edu/~mejn/netdata/adjnoun.zip\n",
    "\n"
   ]
  },
  {
   "cell_type": "code",
   "execution_count": 1,
   "id": "e17e64b8-6088-48d0-a272-094e4cd48922",
   "metadata": {
    "scrolled": true,
    "tags": []
   },
   "outputs": [
    {
     "name": "stdout",
     "output_type": "stream",
     "text": [
      "2021-06-23\n"
     ]
    }
   ],
   "source": [
    "# Importing the required libraries\n",
    "\n",
    "import pandas as pd\n",
    "import numpy as np\n",
    "import copy\n",
    "\n",
    "import networkx as nx\n",
    "G=nx.Graph()\n",
    "\n",
    "from pyvis import network as net\n",
    "import warnings\n",
    "\n",
    "from datetime import date\n",
    "today = date.today()\n",
    "print(today)"
   ]
  },
  {
   "cell_type": "code",
   "execution_count": 2,
   "id": "34c568d5-80a9-4d27-b40e-2fcda9cd31c3",
   "metadata": {
    "tags": []
   },
   "outputs": [
    {
     "ename": "OSError",
     "evalue": "[Errno 22] Invalid argument: 'https://raw.githubusercontent.com/tagensingh/DATA620-WEEK-3/main/adjnoun.gml'",
     "output_type": "error",
     "traceback": [
      "\u001b[1;31m---------------------------------------------------------------------------\u001b[0m",
      "\u001b[1;31mOSError\u001b[0m                                   Traceback (most recent call last)",
      "\u001b[1;32m<ipython-input-2-522972477ee0>\u001b[0m in \u001b[0;36m<module>\u001b[1;34m\u001b[0m\n\u001b[0;32m      1\u001b[0m \u001b[1;31m# Loading data into pandas dataframe from .gml file -----\u001b[0m\u001b[1;33m\u001b[0m\u001b[1;33m\u001b[0m\u001b[1;33m\u001b[0m\u001b[0m\n\u001b[0;32m      2\u001b[0m \u001b[1;33m\u001b[0m\u001b[0m\n\u001b[1;32m----> 3\u001b[1;33m \u001b[0mG\u001b[0m \u001b[1;33m=\u001b[0m \u001b[0mnx\u001b[0m\u001b[1;33m.\u001b[0m\u001b[0mread_gml\u001b[0m\u001b[1;33m(\u001b[0m\u001b[1;34m\"https://raw.githubusercontent.com/tagensingh/DATA620-WEEK-3/main/adjnoun.gml\"\u001b[0m\u001b[1;33m,\u001b[0m\u001b[1;34m\"r\"\u001b[0m\u001b[1;33m)\u001b[0m\u001b[1;33m\u001b[0m\u001b[1;33m\u001b[0m\u001b[0m\n\u001b[0m",
      "\u001b[1;32m<decorator-gen-801>\u001b[0m in \u001b[0;36mread_gml\u001b[1;34m(path, label, destringizer)\u001b[0m\n",
      "\u001b[1;32m~\\anaconda3\\envs\\sps_data_620\\lib\\site-packages\\networkx\\utils\\decorators.py\u001b[0m in \u001b[0;36m_open_file\u001b[1;34m(func_to_be_decorated, *args, **kwargs)\u001b[0m\n\u001b[0;32m    211\u001b[0m         \u001b[1;32mif\u001b[0m \u001b[0misinstance\u001b[0m\u001b[1;33m(\u001b[0m\u001b[0mpath\u001b[0m\u001b[1;33m,\u001b[0m \u001b[0mstr\u001b[0m\u001b[1;33m)\u001b[0m\u001b[1;33m:\u001b[0m\u001b[1;33m\u001b[0m\u001b[1;33m\u001b[0m\u001b[0m\n\u001b[0;32m    212\u001b[0m             \u001b[0mext\u001b[0m \u001b[1;33m=\u001b[0m \u001b[0msplitext\u001b[0m\u001b[1;33m(\u001b[0m\u001b[0mpath\u001b[0m\u001b[1;33m)\u001b[0m\u001b[1;33m[\u001b[0m\u001b[1;36m1\u001b[0m\u001b[1;33m]\u001b[0m\u001b[1;33m\u001b[0m\u001b[1;33m\u001b[0m\u001b[0m\n\u001b[1;32m--> 213\u001b[1;33m             \u001b[0mfobj\u001b[0m \u001b[1;33m=\u001b[0m \u001b[0m_dispatch_dict\u001b[0m\u001b[1;33m[\u001b[0m\u001b[0mext\u001b[0m\u001b[1;33m]\u001b[0m\u001b[1;33m(\u001b[0m\u001b[0mpath\u001b[0m\u001b[1;33m,\u001b[0m \u001b[0mmode\u001b[0m\u001b[1;33m=\u001b[0m\u001b[0mmode\u001b[0m\u001b[1;33m)\u001b[0m\u001b[1;33m\u001b[0m\u001b[1;33m\u001b[0m\u001b[0m\n\u001b[0m\u001b[0;32m    214\u001b[0m             \u001b[0mclose_fobj\u001b[0m \u001b[1;33m=\u001b[0m \u001b[1;32mTrue\u001b[0m\u001b[1;33m\u001b[0m\u001b[1;33m\u001b[0m\u001b[0m\n\u001b[0;32m    215\u001b[0m         \u001b[1;32melif\u001b[0m \u001b[0mhasattr\u001b[0m\u001b[1;33m(\u001b[0m\u001b[0mpath\u001b[0m\u001b[1;33m,\u001b[0m \u001b[1;34m\"read\"\u001b[0m\u001b[1;33m)\u001b[0m\u001b[1;33m:\u001b[0m\u001b[1;33m\u001b[0m\u001b[1;33m\u001b[0m\u001b[0m\n",
      "\u001b[1;31mOSError\u001b[0m: [Errno 22] Invalid argument: 'https://raw.githubusercontent.com/tagensingh/DATA620-WEEK-3/main/adjnoun.gml'"
     ]
    }
   ],
   "source": [
    "# Loading data into pandas dataframe from .gml file -----\n",
    "\n",
    "G = nx.read_gml(r\"https://raw.githubusercontent.com/tagensingh/DATA620-WEEK-3/main/adjnoun.gml\")"
   ]
  },
  {
   "cell_type": "code",
   "execution_count": null,
   "id": "c86dac2d-e9d9-47d1-8d98-6d24f08561d2",
   "metadata": {},
   "outputs": [],
   "source": [
    "print(nx.info(G))"
   ]
  },
  {
   "cell_type": "code",
   "execution_count": null,
   "id": "51f1444f-77bc-41c1-8fbf-966d6c5b560e",
   "metadata": {
    "tags": []
   },
   "outputs": [],
   "source": [
    "nx.diameter(G)"
   ]
  },
  {
   "cell_type": "code",
   "execution_count": null,
   "id": "0cfd28f0-7a00-4253-ad77-5045ea82846f",
   "metadata": {},
   "outputs": [],
   "source": [
    "print(\"The number of total edges is \", nx.number_of_edges(G))\n",
    "edges = pd.DataFrame(list(nx.edges(G)))\n",
    "edges.columns = ['Source', 'Target']\n",
    "edges.head(10)"
   ]
  },
  {
   "cell_type": "code",
   "execution_count": null,
   "id": "6693fd9d-16df-4d0b-8ede-0997926fe421",
   "metadata": {},
   "outputs": [],
   "source": [
    "# Tail edges\n",
    "edges.tail(n=10)"
   ]
  },
  {
   "cell_type": "code",
   "execution_count": null,
   "id": "72bc9015-e696-46da-9e1f-257ac5491398",
   "metadata": {},
   "outputs": [],
   "source": [
    "# for each node in the graph\n",
    "node_color = []\n",
    "for node in G.nodes(data=True):\n",
    "    pol_view = node[1]['value']\n",
    "    if pol_view == 0:\n",
    "        node_color.append('red')\n",
    "    elif pol_view == 1:\n",
    "        node_color.append('blue')\n",
    "    elif pol_view == 'n':\n",
    "        node_color.append('green')"
   ]
  },
  {
   "cell_type": "code",
   "execution_count": null,
   "id": "a5b092d4-96f3-408e-af9c-bf5378e5a13b",
   "metadata": {},
   "outputs": [],
   "source": [
    "# Creating a network analysis\n",
    "plt.figure(figsize=(20,20))\n",
    "plt.axis('off')\n",
    "\n",
    "nx.draw(G, with_labels=True, alpha=0.8, edge_color=\"black\",font_weight=\"bold\",node_color=node_color,node_size=900)\n",
    "\n",
    "plt.title(\"Word Adjacencies for the novel - David Copperfield - \")"
   ]
  },
  {
   "cell_type": "code",
   "execution_count": null,
   "id": "93be2486-a160-4e83-8764-661e1df7260a",
   "metadata": {},
   "outputs": [],
   "source": []
  },
  {
   "cell_type": "code",
   "execution_count": null,
   "id": "5a1ca86e-27f2-4fb0-9daa-69839178b407",
   "metadata": {},
   "outputs": [],
   "source": [
    "# Creating a dataframe with nodes and their required calculations\n",
    "cal = pd.DataFrame()\n",
    "cal['eigen_cent'] = nx.eigenvector_centrality(G).values()\n",
    "cal['degree_cent'] = nx.degree_centrality(G).values()\n",
    "cal['between_cent'] = nx.betweenness_centrality(G).values()\n",
    "cal['close_centr'] = nx.closeness_centrality(G).values()\n",
    "\n",
    "# Printing results\n",
    "cal.index = list(G)\n",
    "print(cal.to_string())"
   ]
  },
  {
   "cell_type": "code",
   "execution_count": null,
   "id": "130a2b73-1a89-4de9-84c9-9a15d88f4fe7",
   "metadata": {},
   "outputs": [],
   "source": []
  },
  {
   "cell_type": "code",
   "execution_count": null,
   "id": "d66d1175-e695-471f-a2bd-ff99216871be",
   "metadata": {},
   "outputs": [],
   "source": [
    "# Most popular characters\n",
    "# Most important character in Game of Throne\n",
    "cal.sort_values('eigen_cent', ascending=False)"
   ]
  },
  {
   "cell_type": "code",
   "execution_count": null,
   "id": "af0946b7-1e36-496e-8012-3430076e7e01",
   "metadata": {},
   "outputs": [],
   "source": []
  },
  {
   "cell_type": "code",
   "execution_count": null,
   "id": "51c9181d-953f-4266-9d16-30302d190480",
   "metadata": {},
   "outputs": [],
   "source": [
    "top_10 = sorted(nx.degree_centrality(G).items(), key=lambda x:x[1], reverse=True)[0:10] # Sort the top 10\n",
    "\n",
    "labels, ys = zip(*top_10)\n",
    "xs = np.arange(len(labels)) \n",
    "width = 1\n",
    "plt.bar(xs, ys, width, align='center')\n",
    "#plt.bar(top_10.keys, top_10.values, align='center')\n",
    "plt.xticks(xs, labels, rotation='vertical') \n",
    "plt.ylabel('Degree Centrality')\n",
    "plt.show()"
   ]
  },
  {
   "cell_type": "code",
   "execution_count": null,
   "id": "31b8c0d9-0312-4ad6-a0a4-3c64c59fbed4",
   "metadata": {},
   "outputs": [],
   "source": []
  },
  {
   "cell_type": "code",
   "execution_count": null,
   "id": "488d3523-2ecd-4e46-bc49-4114121bf177",
   "metadata": {},
   "outputs": [],
   "source": [
    "# creating graphml \n",
    "nx.write_graphml(G, \"project1.graphml\")"
   ]
  },
  {
   "cell_type": "code",
   "execution_count": null,
   "id": "8c49208f-4116-4138-9ea1-782b499e2208",
   "metadata": {},
   "outputs": [],
   "source": []
  },
  {
   "cell_type": "code",
   "execution_count": null,
   "id": "774e03d7-8629-4a1c-b48d-802447e26625",
   "metadata": {},
   "outputs": [],
   "source": []
  },
  {
   "cell_type": "code",
   "execution_count": null,
   "id": "969db6ab-11f5-4b37-8f1c-7ff201a423d1",
   "metadata": {},
   "outputs": [],
   "source": []
  },
  {
   "cell_type": "code",
   "execution_count": null,
   "id": "6f729ba0-b2fc-4e49-aaae-91e5a88ee908",
   "metadata": {},
   "outputs": [],
   "source": []
  },
  {
   "cell_type": "code",
   "execution_count": null,
   "id": "7a28352f-fb3b-49ca-bdcf-afe7fe78af41",
   "metadata": {},
   "outputs": [],
   "source": []
  }
 ],
 "metadata": {
  "kernelspec": {
   "display_name": "Python 3",
   "language": "python",
   "name": "python3"
  },
  "language_info": {
   "codemirror_mode": {
    "name": "ipython",
    "version": 3
   },
   "file_extension": ".py",
   "mimetype": "text/x-python",
   "name": "python",
   "nbconvert_exporter": "python",
   "pygments_lexer": "ipython3",
   "version": "3.7.10"
  }
 },
 "nbformat": 4,
 "nbformat_minor": 5
}
