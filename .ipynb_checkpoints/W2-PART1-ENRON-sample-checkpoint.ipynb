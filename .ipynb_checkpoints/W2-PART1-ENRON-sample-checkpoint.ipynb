{
 "cells": [
  {
   "cell_type": "code",
   "execution_count": null,
   "id": "a8f48654-58eb-4c7f-a6f5-252739984f55",
   "metadata": {
    "scrolled": true,
    "tags": []
   },
   "outputs": [],
   "source": [
    "# Importing the required libraries\n",
    "import pandas as pd\n",
    "import networkx as nx\n",
    "import matplotlib.pyplot as plt\n",
    "G=nx.Graph()\n",
    "\n",
    "from datetime import date\n",
    "today = date.today()\n",
    "\n",
    "print(today)\n"
   ]
  },
  {
   "cell_type": "markdown",
   "id": "9f91f779-4694-44b4-a049-c7c08ace775d",
   "metadata": {
    "tags": []
   },
   "source": [
    "<span style='background :blue' > # CUNY SPS DATA 620\n",
    "\n",
    "<span style='background :blue' >## WEEK 2 ASSIGNMENT 1\n",
    "    \n",
    "### This assignment is about the Enron Email dataset, the dataset contains > 370K edges, we will work with various subsets of those edges.\n",
    "\n",
    "### The dataset was sourced from https://snap.stanford.edu/data/email-Enron.html\n",
    "\n",
    "<span style='background :blue' >### This work is a group effort, the group members are Ramnivas Singh, Deepak Sharma, Tage Singh,"
   ]
  },
  {
   "cell_type": "markdown",
   "id": "ad9e933f-2e2c-4e4e-9b3d-e9e41af5fc29",
   "metadata": {
    "tags": []
   },
   "source": [
    "<span style='background :green' > ## The cell below provide an overview of **1,000** records of the ENRON Email dataset "
   ]
  },
  {
   "cell_type": "code",
   "execution_count": null,
   "id": "5308da1b-a5f3-42d2-859f-53c3a8ed8adf",
   "metadata": {},
   "outputs": [],
   "source": [
    "data_frame_1k = pd.read_csv('https://raw.githubusercontent.com/tagensingh/DATA620-W2-A1/main/gephi_import_1000_records.csv')\n",
    "\n",
    "data_frame_1k.head()\n",
    "\n",
    "G=nx.from_pandas_edgelist(data_frame_1k, 'Source', 'Target',edge_attr=None)\n",
    "\n",
    "#G = nx.read_edgelist(\"enron_1000_records.txt\") # selecting the subset of 1000 records\n",
    "\n",
    "print(nx.info(G))\n",
    "\n",
    "nx.draw(G)\n",
    "\n",
    "plt.show()\n",
    "\n",
    "print('The network density of 1000 nodes is :',nx.density(G) )# Displaying the density metric of the datset of 1000 emails records\n",
    "\n",
    "print(' The number of NODES in this dataset is :',nx.number_of_nodes(G)) # Displaying the total number of nodes\n",
    "\n",
    "print(' The number of EDGES in this dataset is :',nx.number_of_edges(G)) # Displaying the total number of edges\n",
    "\n",
    "# nx.degree_centrality(G) - This produce a list of the degrees of centrality for each node.-The code runs quickly but the output is lengthy\n",
    "\n",
    "print(' The RADIUS of this dataset is :',nx.radius(G)) # Displaying the radius metric\n",
    "\n",
    "print(' The DIAMETER of the dataset is : ',nx.diameter(G)) # Displaying the diameter of the dataset\n",
    "\n",
    " # print(' The EigenVector Centrality is  of the dataset is : ',nx.eigenvector_centrality(G)) - This metric is not practical for computation on large networks."
   ]
  },
  {
   "cell_type": "markdown",
   "id": "aa4f79c5-d298-4ba8-9502-fb367fe6af45",
   "metadata": {},
   "source": [
    "<span style='background :green' > ## The cell below provide an overview of **100,000** records of the ENRON Email dataset \n",
    "    \n",
    "<span style='background :red' > ## This subset of the data is too large to generate a graph using current hardware config"
   ]
  },
  {
   "cell_type": "code",
   "execution_count": null,
   "id": "0a426f23-7cfe-49da-b819-8bfe24344108",
   "metadata": {},
   "outputs": [],
   "source": [
    "#G = nx.read_edgelist(\"email-enron-working-all-records.txt\")  - \n",
    "#This code wil read all 367K records, this will take significant time to compute!\n",
    "\n",
    "\n",
    "data_frame_100k = pd.read_csv('https://raw.githubusercontent.com/tagensingh/DATA620-W2-A1/main/gephi_import_100000_records.csv')\n",
    "\n",
    "data_frame_100k.head()\n",
    "\n",
    "G=nx.from_pandas_edgelist(data_frame_100k, 'Source', 'Target',edge_attr=None)\n",
    "\n",
    "#G = nx.read_edgelist(\"enron_100000_records.txt\") # selecting the subset of 1000 records\n",
    "\n",
    "print(nx.info(G))\n",
    "\n",
    "# nx.draw(G)  - We cannot run this for the 100,000 records since the compute time is significantly extended\n",
    "\n",
    "# plt.show()\n",
    "\n",
    "print('The NETWORK DENSITY of 100000 nodes is :',nx.density(G) )# Displaying the density metric of the datset of 1000 emails records\n",
    "\n",
    "print(' The number of NODES in this dataset is :',nx.number_of_nodes(G)) # Displaying the total number of nodes\n",
    "\n",
    "print(' The number od EDGES in this dataset is :',nx.number_of_edges(G)) # Displaying the total number of edges\n",
    "\n",
    "# nx.degree_centrality(G) - This produce a list of the degrees of centrality for each node.-The code runs quickly but the output is lengthy\n",
    "\n",
    "print(' The RADIUS of this dataset is :',nx.radius(G)) # Displaying the radius metric\n",
    "\n",
    "print(' The DIAMETER of the dataset is : ',nx.diameter(G)) # Displaying the diameter of the dataset"
   ]
  }
 ],
 "metadata": {
  "kernelspec": {
   "display_name": "Python 3",
   "language": "python",
   "name": "python3"
  },
  "language_info": {
   "codemirror_mode": {
    "name": "ipython",
    "version": 3
   },
   "file_extension": ".py",
   "mimetype": "text/x-python",
   "name": "python",
   "nbconvert_exporter": "python",
   "pygments_lexer": "ipython3",
   "version": "3.7.10"
  }
 },
 "nbformat": 4,
 "nbformat_minor": 5
}
